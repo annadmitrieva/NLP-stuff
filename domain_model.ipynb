{
 "cells": [
  {
   "cell_type": "code",
   "execution_count": 35,
   "metadata": {
    "collapsed": true
   },
   "outputs": [],
   "source": [
    "import pandas as pd\n",
    "from sklearn.model_selection import train_test_split\n",
    "from sklearn.feature_extraction.text import TfidfVectorizer\n",
    "from sklearn.naive_bayes import MultinomialNB\n",
    "from sklearn.linear_model import LogisticRegression\n",
    "from sklearn.svm import LinearSVC\n",
    "from sklearn.metrics import *\n",
    "from sklearn.pipeline import Pipeline"
   ]
  },
  {
   "cell_type": "code",
   "execution_count": 2,
   "metadata": {
    "collapsed": true
   },
   "outputs": [],
   "source": [
    "def make_dfs(df, label):\n",
    "    samp=df.sample(frac=1)[:100000]\n",
    "    texts=[]\n",
    "    labels=[]\n",
    "    for i in samp.ngram:\n",
    "        texts.append(i)\n",
    "        labels.append(str(label))\n",
    "    data=pd.DataFrame({'label':labels, 'text':texts})\n",
    "    return data"
   ]
  },
  {
   "cell_type": "code",
   "execution_count": 3,
   "metadata": {
    "collapsed": true
   },
   "outputs": [],
   "source": [
    "hist=pd.read_excel('/media/sf_communalflat/ihatelinguistics/history_collocation_counts.xlsx', 'sixgrams')\n",
    "ling=pd.read_excel('/media/sf_communalflat/ihatelinguistics/linguistics_collocation_counts.xlsx', 'sixgrams')\n",
    "pol=pd.read_excel('/media/sf_communalflat/ihatelinguistics/politology_collocation_counts.xlsx', 'sixgrams')\n",
    "psy=pd.read_excel('/media/sf_communalflat/ihatelinguistics/psychology_and_pedagogics_collocation_counts.xlsx', 'sixgrams')\n",
    "law=pd.read_excel('/media/sf_communalflat/ihatelinguistics/law_collocation_counts.xlsx', 'sixgrams')\n",
    "ec=pd.read_excel('/media/sf_communalflat/ihatelinguistics/economics_collocation_counts.xlsx', 'sixgrams')\n",
    "soc=pd.read_excel('/media/sf_communalflat/ihatelinguistics/sociology_collocation_counts.xlsx', 'sixgrams')"
   ]
  },
  {
   "cell_type": "code",
   "execution_count": 4,
   "metadata": {
    "collapsed": true
   },
   "outputs": [],
   "source": [
    "all_data=pd.concat([make_dfs(hist, 'hist'), make_dfs(ling, 'ling'),make_dfs(pol, 'pol'),make_dfs(psy, 'psy'),make_dfs(law, 'law'),make_dfs(ec, 'ec'),make_dfs(soc, 'soc')])"
   ]
  },
  {
   "cell_type": "code",
   "execution_count": 5,
   "metadata": {},
   "outputs": [
    {
     "name": "stdout",
     "output_type": "stream",
     "text": [
      "482021 120506 482021 120506\n"
     ]
    }
   ],
   "source": [
    "texts_train, texts_test, labels_train, labels_test = train_test_split(all_data.text, all_data.label, test_size=0.2)\n",
    "print(len(texts_train), len(texts_test), len(labels_train), len(labels_test))"
   ]
  },
  {
   "cell_type": "code",
   "execution_count": 31,
   "metadata": {},
   "outputs": [
    {
     "name": "stderr",
     "output_type": "stream",
     "text": [
      "/home/stee/anaconda3/lib/python3.6/site-packages/sklearn/feature_extraction/text.py:1089: FutureWarning: Conversion of the second argument of issubdtype from `float` to `np.floating` is deprecated. In future, it will be treated as `np.float64 == np.dtype(float).type`.\n",
      "  if hasattr(X, 'dtype') and np.issubdtype(X.dtype, np.float):\n"
     ]
    },
    {
     "name": "stdout",
     "output_type": "stream",
     "text": [
      "X_train shape: (482021, 1491566)\n"
     ]
    }
   ],
   "source": [
    "vectorizer = TfidfVectorizer(analyzer='word', ngram_range=(1, 3))\n",
    "X_train = vectorizer.fit_transform(texts_train)\n",
    "print(\"X_train shape:\", X_train.shape)"
   ]
  },
  {
   "cell_type": "code",
   "execution_count": 32,
   "metadata": {},
   "outputs": [
    {
     "name": "stderr",
     "output_type": "stream",
     "text": [
      "/home/stee/anaconda3/lib/python3.6/site-packages/sklearn/feature_extraction/text.py:1089: FutureWarning: Conversion of the second argument of issubdtype from `float` to `np.floating` is deprecated. In future, it will be treated as `np.float64 == np.dtype(float).type`.\n",
      "  if hasattr(X, 'dtype') and np.issubdtype(X.dtype, np.float):\n"
     ]
    },
    {
     "name": "stdout",
     "output_type": "stream",
     "text": [
      "X_test shape: (120506, 1491566)\n"
     ]
    }
   ],
   "source": [
    "X_test = vectorizer.transform(texts_test)\n",
    "print(\"X_test shape:\", X_test.shape)"
   ]
  },
  {
   "cell_type": "code",
   "execution_count": 8,
   "metadata": {},
   "outputs": [
    {
     "name": "stdout",
     "output_type": "stream",
     "text": [
      "             precision    recall  f1-score   support\n",
      "\n",
      "         ec       0.93      0.94      0.93     19924\n",
      "       hist       0.97      0.95      0.96      5538\n",
      "        law       0.94      0.93      0.94     19977\n",
      "       ling       0.95      0.97      0.96     15060\n",
      "        pol       0.93      0.91      0.92     19990\n",
      "        psy       0.93      0.94      0.93     19947\n",
      "        soc       0.94      0.94      0.94     20070\n",
      "\n",
      "avg / total       0.94      0.94      0.94    120506\n",
      "\n"
     ]
    }
   ],
   "source": [
    "svc_clf = LinearSVC()\n",
    "svc_clf.fit(X_train, labels_train)\n",
    "svc_labels_pred = svc_clf.predict(X_test)\n",
    "print(classification_report(y_pred=svc_labels_pred, y_true=labels_test))"
   ]
  },
  {
   "cell_type": "code",
   "execution_count": 9,
   "metadata": {},
   "outputs": [
    {
     "name": "stdout",
     "output_type": "stream",
     "text": [
      "             precision    recall  f1-score   support\n",
      "\n",
      "         ec       0.85      0.90      0.87     19924\n",
      "       hist       1.00      0.35      0.52      5538\n",
      "        law       0.87      0.89      0.88     19977\n",
      "       ling       0.95      0.87      0.91     15060\n",
      "        pol       0.85      0.86      0.85     19990\n",
      "        psy       0.86      0.91      0.88     19947\n",
      "        soc       0.82      0.89      0.86     20070\n",
      "\n",
      "avg / total       0.87      0.86      0.86    120506\n",
      "\n"
     ]
    }
   ],
   "source": [
    "clf = MultinomialNB()\n",
    "clf.fit(X_train, labels_train)\n",
    "labels_pred = clf.predict(X_test)\n",
    "print(classification_report(y_pred=labels_pred, y_true=labels_test))"
   ]
  },
  {
   "cell_type": "code",
   "execution_count": 10,
   "metadata": {},
   "outputs": [
    {
     "name": "stdout",
     "output_type": "stream",
     "text": [
      "             precision    recall  f1-score   support\n",
      "\n",
      "         ec       0.81      0.85      0.83     19924\n",
      "       hist       0.95      0.63      0.76      5538\n",
      "        law       0.83      0.82      0.82     19977\n",
      "       ling       0.87      0.86      0.87     15060\n",
      "        pol       0.80      0.78      0.79     19990\n",
      "        psy       0.80      0.84      0.82     19947\n",
      "        soc       0.79      0.80      0.79     20070\n",
      "\n",
      "avg / total       0.82      0.82      0.82    120506\n",
      "\n"
     ]
    }
   ],
   "source": [
    "clf = LogisticRegression()\n",
    "clf.fit(X_train, labels_train)\n",
    "labels_pred = clf.predict(X_test)\n",
    "print(classification_report(y_pred=labels_pred, y_true=labels_test))"
   ]
  },
  {
   "cell_type": "code",
   "execution_count": 11,
   "metadata": {
    "collapsed": true
   },
   "outputs": [],
   "source": [
    "import pickle\n",
    "pickle.dump(svc_clf, open('domain_model.sav', 'wb'))"
   ]
  },
  {
   "cell_type": "code",
   "execution_count": 37,
   "metadata": {
    "collapsed": true
   },
   "outputs": [],
   "source": [
    "tfidf_svc = Pipeline([('tfidf', vectorizer), ('svc', svc_clf)])"
   ]
  },
  {
   "cell_type": "code",
   "execution_count": 38,
   "metadata": {},
   "outputs": [
    {
     "name": "stderr",
     "output_type": "stream",
     "text": [
      "/home/stee/anaconda3/lib/python3.6/site-packages/sklearn/feature_extraction/text.py:1089: FutureWarning: Conversion of the second argument of issubdtype from `float` to `np.floating` is deprecated. In future, it will be treated as `np.float64 == np.dtype(float).type`.\n",
      "  if hasattr(X, 'dtype') and np.issubdtype(X.dtype, np.float):\n"
     ]
    },
    {
     "data": {
      "text/plain": [
       "Pipeline(memory=None,\n",
       "     steps=[('tfidf', TfidfVectorizer(analyzer='word', binary=False, decode_error='strict',\n",
       "        dtype=<class 'numpy.int64'>, encoding='utf-8', input='content',\n",
       "        lowercase=True, max_df=1.0, max_features=None, min_df=1,\n",
       "        ngram_range=(1, 3), norm='l2', preprocessor=None, smooth_idf=True,\n",
       " ...ax_iter=1000,\n",
       "     multi_class='ovr', penalty='l2', random_state=None, tol=0.0001,\n",
       "     verbose=0))])"
      ]
     },
     "execution_count": 38,
     "metadata": {},
     "output_type": "execute_result"
    }
   ],
   "source": [
    "tfidf_svc.fit(texts_train, labels_train)"
   ]
  },
  {
   "cell_type": "code",
   "execution_count": 40,
   "metadata": {},
   "outputs": [
    {
     "data": {
      "text/plain": [
       "['domain_model.pkl']"
      ]
     },
     "execution_count": 40,
     "metadata": {},
     "output_type": "execute_result"
    }
   ],
   "source": [
    "from sklearn.externals import joblib\n",
    "joblib.dump(tfidf_svc, 'domain_model.pkl')"
   ]
  },
  {
   "cell_type": "code",
   "execution_count": null,
   "metadata": {
    "collapsed": true
   },
   "outputs": [],
   "source": []
  }
 ],
 "metadata": {
  "kernelspec": {
   "display_name": "Python 3",
   "language": "python",
   "name": "python3"
  },
  "language_info": {
   "codemirror_mode": {
    "name": "ipython",
    "version": 3
   },
   "file_extension": ".py",
   "mimetype": "text/x-python",
   "name": "python",
   "nbconvert_exporter": "python",
   "pygments_lexer": "ipython3",
   "version": "3.6.4"
  }
 },
 "nbformat": 4,
 "nbformat_minor": 2
}
