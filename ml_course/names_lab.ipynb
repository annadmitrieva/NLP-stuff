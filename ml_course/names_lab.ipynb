{
 "cells": [
  {
   "cell_type": "code",
   "execution_count": 1,
   "metadata": {
    "collapsed": true
   },
   "outputs": [],
   "source": [
    "f = open('female.txt')\n",
    "female_raw=f.readlines()\n",
    "f1 = open('male.txt')\n",
    "male_raw=f1.readlines()"
   ]
  },
  {
   "cell_type": "markdown",
   "metadata": {},
   "source": [
    "Deleting possible repetitions and the '\\n' in the end of each word"
   ]
  },
  {
   "cell_type": "code",
   "execution_count": 2,
   "metadata": {
    "collapsed": true
   },
   "outputs": [],
   "source": [
    "matches=set(female_raw).intersection(male_raw)"
   ]
  },
  {
   "cell_type": "code",
   "execution_count": 3,
   "metadata": {
    "collapsed": true
   },
   "outputs": [],
   "source": [
    "female=list(set(female_raw)-matches)\n",
    "male=list(set(male_raw)-matches)"
   ]
  },
  {
   "cell_type": "code",
   "execution_count": 4,
   "metadata": {
    "collapsed": true
   },
   "outputs": [],
   "source": [
    "female=[i[:-1].lower() for i in female]\n",
    "male=[i[:-1].lower() for i in male]"
   ]
  },
  {
   "cell_type": "markdown",
   "metadata": {},
   "source": [
    "Making everything the same length. The lists are already shuffled by using the set function, so we dont need to worry about cutting out some of the prefixes"
   ]
  },
  {
   "cell_type": "code",
   "execution_count": 5,
   "metadata": {
    "collapsed": true
   },
   "outputs": [],
   "source": [
    "female=female[0:len(male)]"
   ]
  },
  {
   "cell_type": "code",
   "execution_count": 6,
   "metadata": {},
   "outputs": [
    {
     "data": {
      "text/plain": [
       "True"
      ]
     },
     "execution_count": 6,
     "metadata": {},
     "output_type": "execute_result"
    }
   ],
   "source": [
    "len(female)==len(male)"
   ]
  },
  {
   "cell_type": "markdown",
   "metadata": {},
   "source": [
    "Making train set and test set"
   ]
  },
  {
   "cell_type": "code",
   "execution_count": 7,
   "metadata": {
    "collapsed": true
   },
   "outputs": [],
   "source": [
    "female_train=female[0:int(0.75*len(female))]\n",
    "male_train=male[0:int(0.75*len(male))]"
   ]
  },
  {
   "cell_type": "code",
   "execution_count": 8,
   "metadata": {
    "collapsed": true
   },
   "outputs": [],
   "source": [
    "female_test=female[len(female_train):]\n",
    "male_test=male[len(male_train):]"
   ]
  },
  {
   "cell_type": "code",
   "execution_count": 9,
   "metadata": {},
   "outputs": [
    {
     "name": "stdout",
     "output_type": "stream",
     "text": [
      "1933 645 1933 645\n"
     ]
    }
   ],
   "source": [
    "print(len(female_train), len(female_test), len(male_train), len(male_test))"
   ]
  },
  {
   "cell_type": "code",
   "execution_count": 10,
   "metadata": {
    "collapsed": true
   },
   "outputs": [],
   "source": [
    "max_len=len(max([max(female,key=len),max(male,key=len)], key=len))"
   ]
  },
  {
   "cell_type": "code",
   "execution_count": 13,
   "metadata": {
    "collapsed": true
   },
   "outputs": [],
   "source": [
    "import numpy as np\n",
    "import string\n",
    "alphabet=string.ascii_lowercase+'- '+'\\''\n",
    "def binarize_names(names, ind):\n",
    "    binarized_names=[]\n",
    "    for name in names:\n",
    "        name_matrix = np.zeros((max_len, len(alphabet)), dtype='float32')\n",
    "        for letter in name:\n",
    "            name_matrix[name.index(letter), alphabet.index(letter)]=1.0\n",
    "        binarized_names.append((name_matrix, ind))\n",
    "    return binarized_names"
   ]
  },
  {
   "cell_type": "code",
   "execution_count": 14,
   "metadata": {
    "collapsed": true
   },
   "outputs": [],
   "source": [
    "import random\n",
    "train_names=binarize_names(female_train, 1.0)+binarize_names(male_train, 0.0)\n",
    "random.shuffle(train_names)\n",
    "test_names=binarize_names(female_test, 1.0)+binarize_names(male_test, 0.0)\n",
    "random.shuffle(test_names)"
   ]
  },
  {
   "cell_type": "code",
   "execution_count": 15,
   "metadata": {
    "collapsed": true
   },
   "outputs": [],
   "source": [
    "X_train=np.array([i[0] for i in train_names])\n",
    "Y_train=np.array([i[1] for i in train_names])\n",
    "X_test=np.array([i[0] for i in test_names])\n",
    "Y_test=np.array([i[1] for i in test_names])"
   ]
  },
  {
   "cell_type": "code",
   "execution_count": 16,
   "metadata": {},
   "outputs": [
    {
     "data": {
      "text/plain": [
       "(3866, 15, 29)"
      ]
     },
     "execution_count": 16,
     "metadata": {},
     "output_type": "execute_result"
    }
   ],
   "source": [
    "X_train.shape"
   ]
  },
  {
   "cell_type": "code",
   "execution_count": 17,
   "metadata": {},
   "outputs": [
    {
     "data": {
      "text/plain": [
       "(3866,)"
      ]
     },
     "execution_count": 17,
     "metadata": {},
     "output_type": "execute_result"
    }
   ],
   "source": [
    "Y_train.shape"
   ]
  },
  {
   "cell_type": "code",
   "execution_count": 18,
   "metadata": {},
   "outputs": [
    {
     "name": "stderr",
     "output_type": "stream",
     "text": [
      "Using TensorFlow backend.\n"
     ]
    }
   ],
   "source": [
    "from keras.models import Sequential\n",
    "from keras.layers import Dense, Activation, Dropout, LSTM, Bidirectional"
   ]
  },
  {
   "cell_type": "code",
   "execution_count": 37,
   "metadata": {},
   "outputs": [
    {
     "name": "stdout",
     "output_type": "stream",
     "text": [
      "Train on 3479 samples, validate on 387 samples\n",
      "Epoch 1/30\n",
      "3479/3479 [==============================] - 142s - loss: 0.6398 - acc: 0.6444 - val_loss: 0.6251 - val_acc: 0.6718\n",
      "Epoch 2/30\n",
      "3479/3479 [==============================] - 141s - loss: 0.5899 - acc: 0.6887 - val_loss: 0.5925 - val_acc: 0.6951\n",
      "Epoch 3/30\n",
      "3479/3479 [==============================] - 160s - loss: 0.5620 - acc: 0.7166 - val_loss: 0.6200 - val_acc: 0.6796\n",
      "Epoch 4/30\n",
      "3479/3479 [==============================] - 151s - loss: 0.5500 - acc: 0.7261 - val_loss: 0.5994 - val_acc: 0.6770\n",
      "Epoch 5/30\n",
      "3479/3479 [==============================] - 148s - loss: 0.5395 - acc: 0.7321 - val_loss: 0.5670 - val_acc: 0.7028\n",
      "Epoch 6/30\n",
      "3479/3479 [==============================] - 152s - loss: 0.5267 - acc: 0.7459 - val_loss: 0.5516 - val_acc: 0.7132\n",
      "Epoch 7/30\n",
      "3479/3479 [==============================] - 156s - loss: 0.5228 - acc: 0.7358 - val_loss: 0.6047 - val_acc: 0.7028\n",
      "Epoch 8/30\n",
      "3479/3479 [==============================] - 151s - loss: 0.5101 - acc: 0.7580 - val_loss: 0.5553 - val_acc: 0.7261\n",
      "Epoch 9/30\n",
      "3479/3479 [==============================] - 157s - loss: 0.5003 - acc: 0.7571 - val_loss: 0.5844 - val_acc: 0.7132\n",
      "Epoch 10/30\n",
      "3479/3479 [==============================] - 151s - loss: 0.4994 - acc: 0.7611 - val_loss: 0.5436 - val_acc: 0.7468\n",
      "Epoch 11/30\n",
      "3479/3479 [==============================] - 150s - loss: 0.4858 - acc: 0.7726 - val_loss: 0.5344 - val_acc: 0.7416\n",
      "Epoch 12/30\n",
      "3479/3479 [==============================] - 150s - loss: 0.4683 - acc: 0.7764 - val_loss: 0.5127 - val_acc: 0.7519\n",
      "Epoch 13/30\n",
      "3479/3479 [==============================] - 151s - loss: 0.4613 - acc: 0.7859 - val_loss: 0.5336 - val_acc: 0.7468\n",
      "Epoch 14/30\n",
      "3479/3479 [==============================] - 151s - loss: 0.4423 - acc: 0.7994 - val_loss: 0.4908 - val_acc: 0.7597\n",
      "Epoch 15/30\n",
      "3479/3479 [==============================] - 158s - loss: 0.4256 - acc: 0.8028 - val_loss: 0.5154 - val_acc: 0.7313\n",
      "Epoch 16/30\n",
      "3479/3479 [==============================] - 164s - loss: 0.4156 - acc: 0.8080 - val_loss: 0.5093 - val_acc: 0.7390\n",
      "Epoch 17/30\n",
      "3479/3479 [==============================] - 168s - loss: 0.3947 - acc: 0.8201 - val_loss: 0.5028 - val_acc: 0.7649\n",
      "Epoch 18/30\n",
      "3479/3479 [==============================] - 163s - loss: 0.3850 - acc: 0.8258 - val_loss: 0.4868 - val_acc: 0.7700\n",
      "Epoch 19/30\n",
      "3479/3479 [==============================] - 145s - loss: 0.3629 - acc: 0.8350 - val_loss: 0.5102 - val_acc: 0.7571\n",
      "Epoch 20/30\n",
      "3479/3479 [==============================] - 175s - loss: 0.4915 - acc: 0.7361 - val_loss: 0.6743 - val_acc: 0.5556\n",
      "Epoch 21/30\n",
      "3479/3479 [==============================] - 162s - loss: 0.6503 - acc: 0.6094 - val_loss: 0.6205 - val_acc: 0.6512\n",
      "Epoch 22/30\n",
      "3479/3479 [==============================] - 158s - loss: 0.6082 - acc: 0.6709 - val_loss: 0.7122 - val_acc: 0.5788\n",
      "Epoch 23/30\n",
      "3479/3479 [==============================] - 149s - loss: 0.5625 - acc: 0.7114 - val_loss: 0.5967 - val_acc: 0.6744\n",
      "Epoch 24/30\n",
      "3479/3479 [==============================] - 152s - loss: 0.5248 - acc: 0.7387 - val_loss: 0.5292 - val_acc: 0.7416\n",
      "Epoch 25/30\n",
      "3479/3479 [==============================] - 156s - loss: 0.4557 - acc: 0.7861 - val_loss: 0.5361 - val_acc: 0.7519\n",
      "Epoch 26/30\n",
      "3479/3479 [==============================] - 160s - loss: 0.3956 - acc: 0.8198 - val_loss: 0.4879 - val_acc: 0.7623\n",
      "Epoch 27/30\n",
      "3479/3479 [==============================] - 146s - loss: 0.3620 - acc: 0.8431 - val_loss: 0.5337 - val_acc: 0.7726\n",
      "Epoch 28/30\n",
      "3479/3479 [==============================] - 156s - loss: 0.3193 - acc: 0.8560 - val_loss: 0.4870 - val_acc: 0.7881\n",
      "Epoch 29/30\n",
      "3479/3479 [==============================] - 169s - loss: 0.3250 - acc: 0.8546 - val_loss: 0.4978 - val_acc: 0.7752\n",
      "Epoch 30/30\n",
      "3479/3479 [==============================] - 154s - loss: 0.3105 - acc: 0.8661 - val_loss: 0.5351 - val_acc: 0.7829\n"
     ]
    },
    {
     "data": {
      "text/plain": [
       "<keras.callbacks.History at 0x7f8aecd8c3c8>"
      ]
     },
     "execution_count": 37,
     "metadata": {},
     "output_type": "execute_result"
    }
   ],
   "source": [
    "model = Sequential()\n",
    "model.add(LSTM(512, return_sequences=True, input_shape=(max_len, len(alphabet))))\n",
    "model.add(Dropout(0.2))\n",
    "model.add(Bidirectional(LSTM(512, return_sequences=False)))\n",
    "model.add(Dropout(0.1))\n",
    "model.add(Dense(1))\n",
    "model.add(Activation('sigmoid'))\n",
    "model.compile(loss='binary_crossentropy', optimizer='adam', metrics=['accuracy'])\n",
    "model.fit(X_train, Y_train, batch_size=32, epochs=30, validation_split=0.1)"
   ]
  },
  {
   "cell_type": "code",
   "execution_count": 38,
   "metadata": {},
   "outputs": [
    {
     "name": "stdout",
     "output_type": "stream",
     "text": [
      "_________________________________________________________________\n",
      "Layer (type)                 Output Shape              Param #   \n",
      "=================================================================\n",
      "lstm_14 (LSTM)               (None, 15, 512)           1110016   \n",
      "_________________________________________________________________\n",
      "dropout_13 (Dropout)         (None, 15, 512)           0         \n",
      "_________________________________________________________________\n",
      "bidirectional_7 (Bidirection (None, 1024)              4198400   \n",
      "_________________________________________________________________\n",
      "dropout_14 (Dropout)         (None, 1024)              0         \n",
      "_________________________________________________________________\n",
      "dense_8 (Dense)              (None, 1)                 1025      \n",
      "_________________________________________________________________\n",
      "activation_8 (Activation)    (None, 1)                 0         \n",
      "=================================================================\n",
      "Total params: 5,309,441\n",
      "Trainable params: 5,309,441\n",
      "Non-trainable params: 0\n",
      "_________________________________________________________________\n"
     ]
    }
   ],
   "source": [
    "model.summary()"
   ]
  },
  {
   "cell_type": "code",
   "execution_count": 39,
   "metadata": {},
   "outputs": [
    {
     "name": "stdout",
     "output_type": "stream",
     "text": [
      "1290/1290 [==============================] - 16s    \n",
      "[0.45310598621072695, 0.81007751928743466]\n"
     ]
    }
   ],
   "source": [
    "#dense=1, sigmoid, binary crossentropy, dropout=0.2/0.1, epochs=15,  batch_size=32, bilstm, 512 on both\n",
    "score = model.evaluate(X_test, Y_test)\n",
    "\n",
    "print(score)"
   ]
  },
  {
   "cell_type": "code",
   "execution_count": 36,
   "metadata": {},
   "outputs": [
    {
     "name": "stdout",
     "output_type": "stream",
     "text": [
      "1290/1290 [==============================] - 16s    \n",
      "[0.6015921807104303, 0.80465116297551831]\n"
     ]
    }
   ],
   "source": [
    "#dense=2, softmax, sparse categorical crossentropy, dropout=0.2/0.1, epochs=30,  batch_size=32, bilstm, 512 on both layers\n",
    "score = model.evaluate(X_test, Y_test)\n",
    "\n",
    "print(score)"
   ]
  },
  {
   "cell_type": "code",
   "execution_count": 34,
   "metadata": {},
   "outputs": [
    {
     "name": "stdout",
     "output_type": "stream",
     "text": [
      "1290/1290 [==============================] - 7s     \n",
      "[0.4533819082171418, 0.80000000018482065]\n"
     ]
    }
   ],
   "source": [
    "#dense=2, softmax, sparse categorical crossentropy, dropout=0.2/0.1, epochs=30,  batch_size=32, bilstm, 128 on hidden, 256 on first\n",
    "score = model.evaluate(X_test, Y_test)\n",
    "\n",
    "print(score)"
   ]
  },
  {
   "cell_type": "code",
   "execution_count": 30,
   "metadata": {},
   "outputs": [
    {
     "name": "stdout",
     "output_type": "stream",
     "text": [
      "1290/1290 [==============================] - 13s    \n",
      "[0.57543140178502994, 0.7930232559987741]\n"
     ]
    }
   ],
   "source": [
    "#dense=2, softmax, sparse categorical crossentropy, dropout=0.2, epochs=30,  batch_size=32, bilstm, 256 on hidden, 512 on first\n",
    "score = model.evaluate(X_test, Y_test)\n",
    "\n",
    "print(score)"
   ]
  },
  {
   "cell_type": "code",
   "execution_count": 27,
   "metadata": {},
   "outputs": [
    {
     "name": "stdout",
     "output_type": "stream",
     "text": [
      "1290/1290 [==============================] - 10s    \n",
      "[0.54062903611234914, 0.80000000018482065]\n"
     ]
    }
   ],
   "source": [
    "#dense=2, softmax, sparse categorical crossentropy, dropout=0.2, epochs=30,  batch_size=32, bilstm, 128 on hidden, 512 on first\n",
    "score = model.evaluate(X_test, Y_test)\n",
    "\n",
    "print(score)"
   ]
  },
  {
   "cell_type": "code",
   "execution_count": 24,
   "metadata": {},
   "outputs": [
    {
     "name": "stdout",
     "output_type": "stream",
     "text": [
      "1290/1290 [==============================] - 7s     \n",
      "[0.47647088433420937, 0.78372093041737878]\n"
     ]
    }
   ],
   "source": [
    "#dense=1, sigmoid, binary crossentropy, dropout=0.2/0.1, epochs=15,  batch_size=32, bilstm, 128 on hidden, 512 on first\n",
    "score = model.evaluate(X_test, Y_test)\n",
    "\n",
    "print(score)"
   ]
  },
  {
   "cell_type": "code",
   "execution_count": 21,
   "metadata": {},
   "outputs": [
    {
     "name": "stdout",
     "output_type": "stream",
     "text": [
      "1290/1290 [==============================] - 10s    \n",
      "[0.54307038266529406, 0.73023255804712461]\n"
     ]
    }
   ],
   "source": [
    "#dense=2, softmax, sparse categorical crossentropy, dropout=0.2/0.1, epochs=5,  batch_size=32, bilstm, 128 on hidden, 512 on first\n",
    "score = model.evaluate(X_test, Y_test)\n",
    "\n",
    "print(score)"
   ]
  },
  {
   "cell_type": "markdown",
   "metadata": {},
   "source": [
    "Old counts"
   ]
  },
  {
   "cell_type": "code",
   "execution_count": 38,
   "metadata": {},
   "outputs": [
    {
     "name": "stdout",
     "output_type": "stream",
     "text": [
      "1290/1290 [==============================] - 13s    \n",
      "[0.61343265508496481, 0.71472868235536324]\n"
     ]
    }
   ],
   "source": [
    "#dense=2, softmax, sparse categorical crossentropy, dropout=0.2/0.1, epochs=30,  batch_size=32, bilstm, 128 on hidden, 512 on first\n",
    "score = model.evaluate(X_test, Y_test)\n",
    "\n",
    "print(score)"
   ]
  },
  {
   "cell_type": "code",
   "execution_count": 32,
   "metadata": {},
   "outputs": [
    {
     "name": "stdout",
     "output_type": "stream",
     "text": [
      "1290/1290 [==============================] - 12s    \n",
      "[0.5897029678026835, 0.68682170533394626]\n"
     ]
    }
   ],
   "source": [
    "#dense=2, softmax, sparse categorical crossentropy, dropout=0.2/0.1, epochs=15,  batch_size=32, bilstm, 128 on hidden, 512 on first\n",
    "score = model.evaluate(X_test, Y_test)\n",
    "\n",
    "print(score)"
   ]
  },
  {
   "cell_type": "code",
   "execution_count": 29,
   "metadata": {},
   "outputs": [
    {
     "name": "stdout",
     "output_type": "stream",
     "text": [
      "1290/1290 [==============================] - 13s    \n",
      "[0.6073310375213623, 0.64806201559628629]\n"
     ]
    }
   ],
   "source": [
    "#dense=2, sigmoid, sparse categorical crossentropy, dropout=0.2/0.1, epochs=5,  batch_size=32, bilstm, 128 on hidden, 512 on first\n",
    "score = model.evaluate(X_test, Y_test)\n",
    "\n",
    "print(score)"
   ]
  },
  {
   "cell_type": "code",
   "execution_count": 26,
   "metadata": {},
   "outputs": [
    {
     "name": "stdout",
     "output_type": "stream",
     "text": [
      "1290/1290 [==============================] - 14s    \n",
      "[0.60862938775572661, 0.66356589138045796]\n"
     ]
    }
   ],
   "source": [
    "#dense=2, softmax, sparse categorical crossentropy, dropout=0.1, epochs=5,  batch_size=32, bilstm, 128 on hidden, 512 on first\n",
    "score = model.evaluate(X_test, Y_test)\n",
    "\n",
    "print(score)"
   ]
  },
  {
   "cell_type": "code",
   "execution_count": 22,
   "metadata": {},
   "outputs": [
    {
     "name": "stdout",
     "output_type": "stream",
     "text": [
      "1290/1290 [==============================] - 5s     \n",
      "[0.6287926376327988, 0.63643410843472148]\n"
     ]
    }
   ],
   "source": [
    "#dense=1, sigmoid, binary crossentropy, dropout=0.1, epochs=5,  batch_size=32, bilstm, 128 on both layers\n",
    "score = model.evaluate(X_test, Y_test)\n",
    "\n",
    "print(score)"
   ]
  },
  {
   "cell_type": "code",
   "execution_count": 186,
   "metadata": {},
   "outputs": [
    {
     "name": "stdout",
     "output_type": "stream",
     "text": [
      "1290/1290 [==============================] - 18s    \n",
      "[0.64271246878675714, 0.62015503894451052]\n"
     ]
    }
   ],
   "source": [
    "#dense=1, sigmoid, binary crossentropy, dropout=0.1, epochs=10,  batch_size=32, lstm, 512 on both layers\n",
    "score = model.evaluate(X_test, Y_test)\n",
    "\n",
    "print(score)"
   ]
  },
  {
   "cell_type": "code",
   "execution_count": 181,
   "metadata": {},
   "outputs": [
    {
     "name": "stdout",
     "output_type": "stream",
     "text": [
      "1290/1290 [==============================] - 26s    \n",
      "[0.69337500601775881, 0.4999999999075897]\n"
     ]
    }
   ],
   "source": [
    "#dense=1, sigmoid, binary crossentropy, dropout=0.5, epochs=10,  batch_size=16, lstm, 512 on both layers\n",
    "score = model.evaluate(X_test, Y_test)\n",
    "\n",
    "print(score)"
   ]
  },
  {
   "cell_type": "code",
   "execution_count": 176,
   "metadata": {},
   "outputs": [
    {
     "name": "stdout",
     "output_type": "stream",
     "text": [
      "1290/1290 [==============================] - 24s    \n",
      "[0.6605583102204079, 0.62093023255813951]\n"
     ]
    }
   ],
   "source": [
    "#dense=1, sigmoid, binary crossentropy, dropout=0.2, epochs=5,  batch_size=16, lstm, 512 on both layers\n",
    "score = model.evaluate(X_test, Y_test)\n",
    "\n",
    "print(score)"
   ]
  },
  {
   "cell_type": "code",
   "execution_count": 168,
   "metadata": {},
   "outputs": [
    {
     "name": "stdout",
     "output_type": "stream",
     "text": [
      "1290/1290 [==============================] - 22s    \n",
      "[0.65916604385819544, 0.60310077519379846]\n"
     ]
    }
   ],
   "source": [
    "#dense=2, softmax, sparse categorical crossentropy, dropout=0.2, epochs=5,  batch_size=16, lstm, 512 on both layers\n",
    "score = model.evaluate(X_test, Y_test)\n",
    "\n",
    "print(score)"
   ]
  },
  {
   "cell_type": "code",
   "execution_count": 12,
   "metadata": {},
   "outputs": [
    {
     "data": {
      "text/plain": [
       "array([[ 0.,  0.,  0.,  0.],\n",
       "       [ 0.,  0.,  0.,  0.],\n",
       "       [ 0.,  0.,  0.,  0.]])"
      ]
     },
     "execution_count": 12,
     "metadata": {},
     "output_type": "execute_result"
    }
   ],
   "source": [
    "np.zeros((3,4))"
   ]
  },
  {
   "cell_type": "code",
   "execution_count": null,
   "metadata": {
    "collapsed": true
   },
   "outputs": [],
   "source": []
  }
 ],
 "metadata": {
  "kernelspec": {
   "display_name": "Python 3",
   "language": "python",
   "name": "python3"
  },
  "language_info": {
   "codemirror_mode": {
    "name": "ipython",
    "version": 3
   },
   "file_extension": ".py",
   "mimetype": "text/x-python",
   "name": "python",
   "nbconvert_exporter": "python",
   "pygments_lexer": "ipython3",
   "version": "3.5.4"
  }
 },
 "nbformat": 4,
 "nbformat_minor": 2
}
