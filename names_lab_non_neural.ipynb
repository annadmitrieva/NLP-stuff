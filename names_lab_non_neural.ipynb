{
 "metadata": {
  "name": "",
  "signature": "sha256:9ceb41be3b587c3c463b57aeb74b3db306fc1b0fce37e5bb46a330ed071f7bee"
 },
 "nbformat": 3,
 "nbformat_minor": 0,
 "worksheets": [
  {
   "cells": [
    {
     "cell_type": "code",
     "collapsed": false,
     "input": [
      "f = open('female.txt')\n",
      "female_raw=f.readlines()\n",
      "f1 = open('male.txt')\n",
      "male_raw=f1.readlines()"
     ],
     "language": "python",
     "metadata": {},
     "outputs": [],
     "prompt_number": 1
    },
    {
     "cell_type": "code",
     "collapsed": false,
     "input": [
      "matches=set(female_raw).intersection(male_raw)"
     ],
     "language": "python",
     "metadata": {},
     "outputs": [],
     "prompt_number": 2
    },
    {
     "cell_type": "code",
     "collapsed": false,
     "input": [
      "female=list(set(female_raw)-matches)\n",
      "male=list(set(male_raw)-matches)"
     ],
     "language": "python",
     "metadata": {},
     "outputs": [],
     "prompt_number": 3
    },
    {
     "cell_type": "code",
     "collapsed": false,
     "input": [
      "female=[i[:-1].lower() for i in female]\n",
      "male=[i[:-1].lower() for i in male]"
     ],
     "language": "python",
     "metadata": {},
     "outputs": [],
     "prompt_number": 4
    },
    {
     "cell_type": "code",
     "collapsed": false,
     "input": [
      "female=female[0:len(male)]"
     ],
     "language": "python",
     "metadata": {},
     "outputs": [],
     "prompt_number": 5
    },
    {
     "cell_type": "code",
     "collapsed": false,
     "input": [
      "from sklearn.naive_bayes import MultinomialNB\n",
      "from nltk.util import ngrams\n",
      "from sklearn.pipeline import Pipeline\n",
      "from sklearn.feature_extraction.text import *\n",
      "import pandas as pd\n",
      "from sklearn.cross_validation import train_test_split\n",
      "from collections import defaultdict\n",
      "import numpy as np"
     ],
     "language": "python",
     "metadata": {},
     "outputs": [],
     "prompt_number": 8
    },
    {
     "cell_type": "code",
     "collapsed": false,
     "input": [
      "all_names=female+male"
     ],
     "language": "python",
     "metadata": {},
     "outputs": [],
     "prompt_number": 71
    },
    {
     "cell_type": "code",
     "collapsed": false,
     "input": [
      "N=3"
     ],
     "language": "python",
     "metadata": {},
     "outputs": [],
     "prompt_number": 138
    },
    {
     "cell_type": "code",
     "collapsed": false,
     "input": [
      "all_lst = []\n",
      "for i in all_names:\n",
      "    jj = list(i)\n",
      "    ngr = list(ngrams(jj, N))\n",
      "    for i in ngr:\n",
      "        all_lst.append(''.join(j for j in i))"
     ],
     "language": "python",
     "metadata": {},
     "outputs": [],
     "prompt_number": 139
    },
    {
     "cell_type": "code",
     "collapsed": false,
     "input": [
      "all_unique=list(set(all_lst))"
     ],
     "language": "python",
     "metadata": {},
     "outputs": [],
     "prompt_number": 140
    },
    {
     "cell_type": "code",
     "collapsed": false,
     "input": [
      "all_dict={}\n",
      "for i in all_unique:\n",
      "    all_dict[i]=all_unique.index(i)"
     ],
     "language": "python",
     "metadata": {},
     "outputs": [],
     "prompt_number": 141
    },
    {
     "cell_type": "code",
     "collapsed": false,
     "input": [
      "morelistsforgodoflists = []\n",
      "for i in female:\n",
      "    x = [i[d:d+N] for d in range(len(i)-(N-1))]\n",
      "    morelistsforgodoflists.append(x)"
     ],
     "language": "python",
     "metadata": {},
     "outputs": [],
     "prompt_number": 154
    },
    {
     "cell_type": "code",
     "collapsed": false,
     "input": [
      "matrices2 = []\n",
      "for jjj in morelistsforgodoflists:\n",
      "    mtrx = np.zeros((len(all_dict),), dtype=np.float)\n",
      "    for ii in jjj:\n",
      "        mtrx[all_dict[ii]]+=1.0\n",
      "    matrices2.append(mtrx)\n",
      "\n",
      "print(len(matrices2))"
     ],
     "language": "python",
     "metadata": {},
     "outputs": [
      {
       "output_type": "stream",
       "stream": "stdout",
       "text": [
        "2578\n"
       ]
      }
     ],
     "prompt_number": 156
    },
    {
     "cell_type": "code",
     "collapsed": false,
     "input": [
      "morelistsforgodoflistsmale = []\n",
      "for i in male:\n",
      "    x = [i[d:d+N] for d in range(len(i)-(N-1))]\n",
      "    morelistsforgodoflistsmale.append(x)\n",
      "matrices3 = []\n",
      "for jjj in morelistsforgodoflistsmale:\n",
      "    mtrx = np.zeros((len(all_dict),), dtype=np.float)\n",
      "    for ii in jjj:\n",
      "        mtrx[all_dict[ii]]+=1.0\n",
      "    matrices3.append(mtrx)"
     ],
     "language": "python",
     "metadata": {},
     "outputs": [],
     "prompt_number": 157
    },
    {
     "cell_type": "code",
     "collapsed": false,
     "input": [
      "len(matrices2)==len(matrices3)"
     ],
     "language": "python",
     "metadata": {},
     "outputs": [
      {
       "metadata": {},
       "output_type": "pyout",
       "prompt_number": 158,
       "text": [
        "True"
       ]
      }
     ],
     "prompt_number": 158
    },
    {
     "cell_type": "code",
     "collapsed": false,
     "input": [
      "sliced=int(3/4*len(matrices2))"
     ],
     "language": "python",
     "metadata": {},
     "outputs": [],
     "prompt_number": 159
    },
    {
     "cell_type": "code",
     "collapsed": false,
     "input": [
      "sliced"
     ],
     "language": "python",
     "metadata": {},
     "outputs": [
      {
       "metadata": {},
       "output_type": "pyout",
       "prompt_number": 160,
       "text": [
        "1933"
       ]
      }
     ],
     "prompt_number": 160
    },
    {
     "cell_type": "code",
     "collapsed": false,
     "input": [
      "types1 = [np.float(0)] * len(matrices2)\n",
      "types2 = [np.float(1)] * len(matrices3)"
     ],
     "language": "python",
     "metadata": {},
     "outputs": [],
     "prompt_number": 163
    },
    {
     "cell_type": "code",
     "collapsed": false,
     "input": [
      "x_train=matrices2[:sliced]+matrices3[:sliced]\n",
      "y_train=types1[:sliced]+types2[:sliced]\n",
      "x_test=matrices2[sliced:]+matrices3[sliced:]\n",
      "y_test=types1[sliced:]+types2[sliced:]"
     ],
     "language": "python",
     "metadata": {},
     "outputs": [],
     "prompt_number": 164
    },
    {
     "cell_type": "code",
     "collapsed": false,
     "input": [
      "clf = MultinomialNB()\n",
      "clf.fit(x_train, y_train)\n",
      "predictions=clf.predict(x_test)\n",
      "from sklearn.metrics import *\n",
      "print(precision_score(y_test, predictions))\n",
      "print(recall_score(y_test, predictions))\n",
      "print(f1_score(y_test, predictions))\n",
      "print(accuracy_score(y_test, predictions))"
     ],
     "language": "python",
     "metadata": {},
     "outputs": [
      {
       "output_type": "stream",
       "stream": "stdout",
       "text": [
        "0.822934232715\n",
        "0.756589147287\n",
        "0.788368336026\n",
        "0.796899224806\n"
       ]
      }
     ],
     "prompt_number": 165
    },
    {
     "cell_type": "code",
     "collapsed": false,
     "input": [
      "from sklearn import svm\n",
      "clf = svm.SVC()\n",
      "clf.fit(x_train, y_train)\n",
      "predictions=clf.predict(x_test)\n",
      "from sklearn.metrics import *\n",
      "print(precision_score(y_test, predictions))\n",
      "print(recall_score(y_test, predictions))\n",
      "print(f1_score(y_test, predictions))\n",
      "print(accuracy_score(y_test, predictions))"
     ],
     "language": "python",
     "metadata": {},
     "outputs": [
      {
       "output_type": "stream",
       "stream": "stdout",
       "text": [
        "0.560035056968\n",
        "0.990697674419\n",
        "0.715565509518\n",
        "0.606201550388\n"
       ]
      }
     ],
     "prompt_number": 166
    },
    {
     "cell_type": "code",
     "collapsed": false,
     "input": [
      "from sklearn.linear_model import LogisticRegression\n",
      "clf = LogisticRegression()\n",
      "clf.fit(x_train, y_train)\n",
      "predictions=clf.predict(x_test)\n",
      "from sklearn.metrics import *\n",
      "print(precision_score(y_test, predictions))\n",
      "print(recall_score(y_test, predictions))\n",
      "print(f1_score(y_test, predictions))\n",
      "print(accuracy_score(y_test, predictions))"
     ],
     "language": "python",
     "metadata": {},
     "outputs": [
      {
       "output_type": "stream",
       "stream": "stdout",
       "text": [
        "0.81520119225\n",
        "0.848062015504\n",
        "0.831306990881\n",
        "0.827906976744\n"
       ]
      }
     ],
     "prompt_number": 168
    },
    {
     "cell_type": "code",
     "collapsed": false,
     "input": [],
     "language": "python",
     "metadata": {},
     "outputs": []
    }
   ],
   "metadata": {}
  }
 ]
}